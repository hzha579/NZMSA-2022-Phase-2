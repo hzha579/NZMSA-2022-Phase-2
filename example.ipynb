{
  "cells": [
    {
      "cell_type": "markdown",
      "metadata": {},
      "source": [
        "1. Load necessary packages and modules"
      ]
    },
    {
      "cell_type": "code",
      "execution_count": 1,
      "metadata": {
        "gather": {
          "logged": 1691557655455
        }
      },
      "outputs": [],
      "source": [
        "# Azure Machine Learning SDK core\n",
        "from azureml.core import Workspace\n",
        "from azureml.core.model import Model\n",
        "\n",
        "# Scikit-learn and others\n",
        "from sklearn.ensemble import RandomForestClassifier\n",
        "from sklearn.model_selection import train_test_split\n",
        "import pickle"
      ]
    },
    {
      "cell_type": "markdown",
      "metadata": {},
      "source": [
        "2. Train and save a model\n",
        "Model training here is provided only as an example, it assumes you don't have a trained model already.\n",
        "\n",
        "Before running the code below for your own model:\n",
        "\n",
        "* Load in your trained model, or copy the last line of the code below into the notebook where your trained model is located.\n",
        "* Save your trained model as a .pkl file called model.pkl, as shown below."
      ]
    },
    {
      "cell_type": "code",
      "execution_count": 2,
      "metadata": {
        "gather": {
          "logged": 1691557656796
        }
      },
      "outputs": [
        {
          "data": {
            "text/html": [
              "<div>\n",
              "<style scoped>\n",
              "    .dataframe tbody tr th:only-of-type {\n",
              "        vertical-align: middle;\n",
              "    }\n",
              "\n",
              "    .dataframe tbody tr th {\n",
              "        vertical-align: top;\n",
              "    }\n",
              "\n",
              "    .dataframe thead th {\n",
              "        text-align: right;\n",
              "    }\n",
              "</style>\n",
              "<table border=\"1\" class=\"dataframe\">\n",
              "  <thead>\n",
              "    <tr style=\"text-align: right;\">\n",
              "      <th></th>\n",
              "      <th>work_year</th>\n",
              "      <th>experience_level</th>\n",
              "      <th>job_title</th>\n",
              "      <th>salary_in_usd</th>\n",
              "    </tr>\n",
              "  </thead>\n",
              "  <tbody>\n",
              "    <tr>\n",
              "      <th>0</th>\n",
              "      <td>3</td>\n",
              "      <td>3</td>\n",
              "      <td>84</td>\n",
              "      <td>85847</td>\n",
              "    </tr>\n",
              "    <tr>\n",
              "      <th>1</th>\n",
              "      <td>3</td>\n",
              "      <td>2</td>\n",
              "      <td>66</td>\n",
              "      <td>30000</td>\n",
              "    </tr>\n",
              "    <tr>\n",
              "      <th>2</th>\n",
              "      <td>3</td>\n",
              "      <td>2</td>\n",
              "      <td>66</td>\n",
              "      <td>25500</td>\n",
              "    </tr>\n",
              "    <tr>\n",
              "      <th>3</th>\n",
              "      <td>3</td>\n",
              "      <td>3</td>\n",
              "      <td>47</td>\n",
              "      <td>175000</td>\n",
              "    </tr>\n",
              "    <tr>\n",
              "      <th>4</th>\n",
              "      <td>3</td>\n",
              "      <td>3</td>\n",
              "      <td>47</td>\n",
              "      <td>120000</td>\n",
              "    </tr>\n",
              "  </tbody>\n",
              "</table>\n",
              "</div>"
            ],
            "text/plain": [
              "   work_year  experience_level  job_title  salary_in_usd\n",
              "0          3                 3         84          85847\n",
              "1          3                 2         66          30000\n",
              "2          3                 2         66          25500\n",
              "3          3                 3         47         175000\n",
              "4          3                 3         47         120000"
            ]
          },
          "execution_count": 2,
          "metadata": {},
          "output_type": "execute_result"
        }
      ],
      "source": [
        "import pandas as pd\n",
        "\n",
        "# Load the file into a DataFrame\n",
        "df_preprocessed_salaries = pd.read_csv('https://github.com/hzha579/NZMSA-2022-Phase-2/raw/main/Resources/datasets/preprocessed_salaries.csv')\n",
        "df_preprocessed_salaries.head(5)"
      ]
    },
    {
      "cell_type": "code",
      "execution_count": 3,
      "metadata": {
        "gather": {
          "logged": 1691557656951
        }
      },
      "outputs": [
        {
          "name": "stdout",
          "output_type": "stream",
          "text": [
            "<class 'pandas.core.frame.DataFrame'>\n",
            "RangeIndex: 3755 entries, 0 to 3754\n",
            "Data columns (total 4 columns):\n",
            " #   Column            Non-Null Count  Dtype\n",
            "---  ------            --------------  -----\n",
            " 0   work_year         3755 non-null   int64\n",
            " 1   experience_level  3755 non-null   int64\n",
            " 2   job_title         3755 non-null   int64\n",
            " 3   salary_in_usd     3755 non-null   int64\n",
            "dtypes: int64(4)\n",
            "memory usage: 117.5 KB\n"
          ]
        }
      ],
      "source": [
        "df_preprocessed_salaries.info()"
      ]
    },
    {
      "cell_type": "code",
      "execution_count": 4,
      "metadata": {
        "gather": {
          "logged": 1691557657098
        }
      },
      "outputs": [
        {
          "data": {
            "text/html": [
              "<div>\n",
              "<style scoped>\n",
              "    .dataframe tbody tr th:only-of-type {\n",
              "        vertical-align: middle;\n",
              "    }\n",
              "\n",
              "    .dataframe tbody tr th {\n",
              "        vertical-align: top;\n",
              "    }\n",
              "\n",
              "    .dataframe thead th {\n",
              "        text-align: right;\n",
              "    }\n",
              "</style>\n",
              "<table border=\"1\" class=\"dataframe\">\n",
              "  <thead>\n",
              "    <tr style=\"text-align: right;\">\n",
              "      <th></th>\n",
              "      <th>work_year</th>\n",
              "      <th>experience_level</th>\n",
              "      <th>job_title</th>\n",
              "      <th>salary_in_usd</th>\n",
              "    </tr>\n",
              "  </thead>\n",
              "  <tbody>\n",
              "    <tr>\n",
              "      <th>count</th>\n",
              "      <td>3755.000000</td>\n",
              "      <td>3755.000000</td>\n",
              "      <td>3755.000000</td>\n",
              "      <td>3755.000000</td>\n",
              "    </tr>\n",
              "    <tr>\n",
              "      <th>mean</th>\n",
              "      <td>2.373635</td>\n",
              "      <td>2.469241</td>\n",
              "      <td>39.661784</td>\n",
              "      <td>137570.389880</td>\n",
              "    </tr>\n",
              "    <tr>\n",
              "      <th>std</th>\n",
              "      <td>0.691448</td>\n",
              "      <td>0.906261</td>\n",
              "      <td>18.536695</td>\n",
              "      <td>63055.625278</td>\n",
              "    </tr>\n",
              "    <tr>\n",
              "      <th>min</th>\n",
              "      <td>0.000000</td>\n",
              "      <td>0.000000</td>\n",
              "      <td>0.000000</td>\n",
              "      <td>5132.000000</td>\n",
              "    </tr>\n",
              "    <tr>\n",
              "      <th>25%</th>\n",
              "      <td>2.000000</td>\n",
              "      <td>2.000000</td>\n",
              "      <td>27.000000</td>\n",
              "      <td>95000.000000</td>\n",
              "    </tr>\n",
              "    <tr>\n",
              "      <th>50%</th>\n",
              "      <td>2.000000</td>\n",
              "      <td>3.000000</td>\n",
              "      <td>33.000000</td>\n",
              "      <td>135000.000000</td>\n",
              "    </tr>\n",
              "    <tr>\n",
              "      <th>75%</th>\n",
              "      <td>3.000000</td>\n",
              "      <td>3.000000</td>\n",
              "      <td>47.000000</td>\n",
              "      <td>175000.000000</td>\n",
              "    </tr>\n",
              "    <tr>\n",
              "      <th>max</th>\n",
              "      <td>3.000000</td>\n",
              "      <td>3.000000</td>\n",
              "      <td>92.000000</td>\n",
              "      <td>450000.000000</td>\n",
              "    </tr>\n",
              "  </tbody>\n",
              "</table>\n",
              "</div>"
            ],
            "text/plain": [
              "         work_year  experience_level    job_title  salary_in_usd\n",
              "count  3755.000000       3755.000000  3755.000000    3755.000000\n",
              "mean      2.373635          2.469241    39.661784  137570.389880\n",
              "std       0.691448          0.906261    18.536695   63055.625278\n",
              "min       0.000000          0.000000     0.000000    5132.000000\n",
              "25%       2.000000          2.000000    27.000000   95000.000000\n",
              "50%       2.000000          3.000000    33.000000  135000.000000\n",
              "75%       3.000000          3.000000    47.000000  175000.000000\n",
              "max       3.000000          3.000000    92.000000  450000.000000"
            ]
          },
          "execution_count": 4,
          "metadata": {},
          "output_type": "execute_result"
        }
      ],
      "source": [
        "df_preprocessed_salaries.describe()"
      ]
    },
    {
      "cell_type": "code",
      "execution_count": 5,
      "metadata": {
        "gather": {
          "logged": 1691557657238
        }
      },
      "outputs": [],
      "source": [
        "# Split data into a training set and a test set (test set not used in this example)\n",
        "X = df_preprocessed_salaries[['work_year', 'experience_level', 'job_title']]\n",
        "y = df_preprocessed_salaries['salary_in_usd']\n",
        "X_train, X_test, y_train, y_test = train_test_split(X, y, test_size=0.2, random_state=42)\n",
        "\n",
        "# Train and save model\n",
        "from sklearn.ensemble import GradientBoostingRegressor\n",
        "model = GradientBoostingRegressor(random_state=42)\n",
        "model.fit(X_train, y_train)\n",
        "pickle.dump(model, open(\"model.pkl\", \"wb\"))"
      ]
    },
    {
      "cell_type": "markdown",
      "metadata": {},
      "source": [
        "3. Load and connect to workspace"
      ]
    },
    {
      "cell_type": "code",
      "execution_count": 6,
      "metadata": {
        "gather": {
          "logged": 1691557657534
        }
      },
      "outputs": [],
      "source": [
        "ws = Workspace.from_config(path=\"config.json\")"
      ]
    },
    {
      "cell_type": "markdown",
      "metadata": {},
      "source": [
        "4. Register model onto Azure"
      ]
    },
    {
      "cell_type": "code",
      "execution_count": 7,
      "metadata": {
        "gather": {
          "logged": 1691557660155
        }
      },
      "outputs": [
        {
          "name": "stdout",
          "output_type": "stream",
          "text": [
            "Registering model salaries-GradientBoostingRegressor\n"
          ]
        }
      ],
      "source": [
        "model = Model.register(ws, model_name=\"salaries-GradientBoostingRegressor\", \n",
        "                       model_path=\"model.pkl\")"
      ]
    },
    {
      "cell_type": "markdown",
      "metadata": {},
      "source": [
        "5. Create entry script"
      ]
    },
    {
      "cell_type": "code",
      "execution_count": 1,
      "metadata": {},
      "outputs": [
        {
          "name": "stdout",
          "output_type": "stream",
          "text": [
            "# packages in environment at /anaconda:\r\n",
            "#\r\n",
            "# Name                    Version                   Build  Channel\r\n",
            "_libgcc_mutex             0.1                        main  \r\n",
            "_openmp_mutex             5.1                       1_gnu  \r\n",
            "applicationinsights       0.11.10                  pypi_0    pypi\r\n",
            "boltons                   23.0.0          py310h06a4308_0  \r\n",
            "brotlipy                  0.7.0           py310h7f8727e_1002  \r\n",
            "bzip2                     1.0.8                h7b6447c_0  \r\n",
            "ca-certificates           2023.5.7             hbcca054_0    conda-forge\r\n",
            "certifi                   2023.5.7           pyhd8ed1ab_0    conda-forge\r\n",
            "cffi                      1.15.1          py310h5eee18b_3  \r\n",
            "charset-normalizer        2.0.4              pyhd3eb1b0_0  \r\n",
            "conda                     23.5.0          py310hff52083_1    conda-forge\r\n",
            "conda-content-trust       0.1.3           py310h06a4308_0  \r\n",
            "conda-package-handling    2.1.0           py310h06a4308_0  \r\n",
            "conda-package-streaming   0.8.0           py310h06a4308_0  \r\n",
            "cryptography              39.0.1          py310h9ce1e76_2  \r\n",
            "idna                      3.4             py310h06a4308_0  \r\n",
            "jsonpatch                 1.32               pyhd3eb1b0_0  \r\n",
            "jsonpointer               2.1                pyhd3eb1b0_0  \r\n",
            "ld_impl_linux-64          2.38                 h1181459_1  \r\n",
            "libffi                    3.4.4                h6a678d5_0  \r\n",
            "libgcc-ng                 11.2.0               h1234567_1  \r\n",
            "libgomp                   11.2.0               h1234567_1  \r\n",
            "libstdcxx-ng              11.2.0               h1234567_1  \r\n",
            "libuuid                   1.41.5               h5eee18b_0  \r\n",
            "ncurses                   6.4                  h6a678d5_0  \r\n",
            "openssl                   3.0.9                h7f8727e_0  \r\n",
            "packaging                 23.0            py310h06a4308_0  \r\n",
            "pip                       23.1.2             pyhd8ed1ab_0    conda-forge\r\n",
            "pluggy                    1.0.0           py310h06a4308_1  \r\n",
            "psutil                    5.9.5                    pypi_0    pypi\r\n",
            "pycosat                   0.6.4           py310h5eee18b_0  \r\n",
            "pycparser                 2.21               pyhd3eb1b0_0  \r\n",
            "pyopenssl                 23.0.0          py310h06a4308_0  \r\n",
            "pysocks                   1.7.1           py310h06a4308_0  \r\n",
            "python                    3.10.11              h955ad1f_3  \r\n",
            "python_abi                3.10                    2_cp310    conda-forge\r\n",
            "readline                  8.2                  h5eee18b_0  \r\n",
            "requests                  2.29.0          py310h06a4308_0  \r\n",
            "ruamel.yaml               0.17.21         py310h5eee18b_0  \r\n",
            "ruamel.yaml.clib          0.2.6           py310h5eee18b_1  \r\n",
            "setuptools                65.6.3          py310h06a4308_0  \r\n",
            "six                       1.16.0             pyhd3eb1b0_1  \r\n",
            "sqlite                    3.41.2               h5eee18b_0  \r\n",
            "tk                        8.6.12               h1ccaba5_0  \r\n",
            "toolz                     0.12.0          py310h06a4308_0  \r\n",
            "tqdm                      4.65.0          py310h2f386ee_0  \r\n",
            "tzdata                    2023c                h04d1e81_0  \r\n",
            "urllib3                   1.26.16         py310h06a4308_0  \r\n",
            "wheel                     0.38.4          py310h06a4308_0  \r\n",
            "xz                        5.4.2                h5eee18b_0  \r\n",
            "zlib                      1.2.13               h5eee18b_0  \r\n",
            "zstandard                 0.19.0          py310h5eee18b_0  \r\n"
          ]
        }
      ],
      "source": [
        "!conda list"
      ]
    }
  ],
  "metadata": {
    "kernel_info": {
      "name": "python3"
    },
    "kernelspec": {
      "display_name": "Python 3 (ipykernel)",
      "language": "python",
      "name": "python3"
    },
    "language_info": {
      "codemirror_mode": {
        "name": "ipython",
        "version": 3
      },
      "file_extension": ".py",
      "mimetype": "text/x-python",
      "name": "python",
      "nbconvert_exporter": "python",
      "pygments_lexer": "ipython3",
      "version": "3.10.11"
    },
    "microsoft": {
      "host": {
        "AzureML": {
          "notebookHasBeenCompleted": true
        }
      },
      "ms_spell_check": {
        "ms_spell_check_language": "en"
      }
    },
    "nteract": {
      "version": "nteract-front-end@1.0.0"
    },
    "orig_nbformat": 4
  },
  "nbformat": 4,
  "nbformat_minor": 2
}
